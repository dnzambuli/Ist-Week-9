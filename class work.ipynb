{
 "cells": [
  {
   "cell_type": "markdown",
   "id": "5e870afd",
   "metadata": {},
   "source": [
    "## Functions \n",
    "```function``` a group of statements that carry out a given task\n",
    "- self contained program segment that carries out some specific well defined task\n",
    "\n",
    "- a **module of code** that takes input as **parameters** and performs a \n",
    "### Uses \n",
    "- avoid rewriting similar things through out the program \n",
    "- no limit of calling functions from any part of the code\n",
    "- easily track a program's life cycle \n",
    "- improve reuseability by reducing the code into small chunks that are easily understandable\n",
    "\n",
    "### Syntax\n",
    "```python\n",
    "def my_func():\n",
    "    print(\"Welcome to my first function\")\n",
    "\n",
    "my_func()\n",
    "```\n",
    "\n",
    "- **def** keyword to id a function\n",
    "- my_func **function name** the neame to call the function\n",
    "- (**param**) input for the function\n",
    "- **statements** code that is writen inside the function and is ran when the function is called\n",
    "- **function name ()** calling the function and telling python to run it\n",
    "\n",
    "### Task 1.0\n",
    "```\n",
    "- run the function above and present the output\n",
    "```\n"
   ]
  },
  {
   "cell_type": "code",
   "execution_count": 1,
   "id": "19d24535",
   "metadata": {},
   "outputs": [
    {
     "name": "stdout",
     "output_type": "stream",
     "text": [
      "Welcome to my first function\n"
     ]
    }
   ],
   "source": [
    "def my_func():\n",
    "    print(\"Welcome to my first function\")\n",
    "\n",
    "my_func()"
   ]
  },
  {
   "cell_type": "markdown",
   "id": "38656be2",
   "metadata": {},
   "source": [
    "### Task 1.2\n",
    "- write a function that displays all the countries you have visited"
   ]
  },
  {
   "cell_type": "code",
   "execution_count": 13,
   "id": "d0175282",
   "metadata": {},
   "outputs": [
    {
     "name": "stdout",
     "output_type": "stream",
     "text": [
      "in the year 2002, Daniel visited South Africa\n",
      "\n",
      "in the year 2005, Daniel visited Tanzania\n",
      "\n",
      "in the year 2008, Daniel visited U.S.A\n",
      "\n",
      "in the year 2010, Daniel visited Tanzania\n",
      "\n",
      "in the year 2012, Daniel visited Ethiopia\n",
      "\n",
      "in the year 2013, Daniel visited South Sudan\n",
      "\n",
      "in the year 2014, Daniel visited Tanzania\n",
      "\n",
      "in the year 2016, Daniel visited Sudan\n",
      "\n",
      "in the year 2020, Daniel visited Tanzania\n",
      "\n"
     ]
    }
   ],
   "source": [
    "countries = [{2002: \"South Africa\"}, \n",
    "             {2005: \"Tanzania\"}, \n",
    "             {2008: \"U.S.A\"}, \n",
    "             {2010: \"Tanzania\"}, \n",
    "             {2012: \"Ethiopia\"},\n",
    "            {2013: \"South Sudan\"},\n",
    "            {2014: \"Tanzania\"},\n",
    "            {2016: \"Sudan\"},\n",
    "            {2020: \"Tanzania\"}]\n",
    " \n",
    "# count is a variable name for parameters fed into the function countries visited    \n",
    "def countries_visited(count):\n",
    "    '''\n",
    "    countries visited takes a list dictionaries containing countries visited and returns the year and country visited\n",
    "    \n",
    "    input: List containing a dictionary {int year: str country}\n",
    "    output: year and country visited\n",
    "    '''\n",
    "    for n in range(len(count)):\n",
    "        for year , country in count[n].items():\n",
    "            print(f\"in the year {year}, Daniel visited {country}\\n\")\n",
    "    \n",
    "    \n",
    "countries_visited(countries)"
   ]
  },
  {
   "cell_type": "markdown",
   "id": "ef8137b7",
   "metadata": {},
   "source": [
    "```library functions ``` built in functions that are shiped with libraries for python\n",
    "```library```is a collection of related modules. It contains bundles of code that can be used repeatedly in different programs. It makes Python Programming simpler and convenient for the programmer. \n",
    "\n",
    "### Challenge \n",
    "- write a function that returns the squareroot of a number"
   ]
  },
  {
   "cell_type": "code",
   "execution_count": 5,
   "id": "ea22d6bb",
   "metadata": {},
   "outputs": [
    {
     "data": {
      "text/plain": [
       "'6.0'"
      ]
     },
     "execution_count": 5,
     "metadata": {},
     "output_type": "execute_result"
    }
   ],
   "source": [
    "import time\n",
    "def square_root(number):\n",
    "    try:\n",
    "        num = int(number)\n",
    "    except ValueError:\n",
    "        print (\"invalid: function takes in int '' was given\")\n",
    "        return None\n",
    "    if number < 0:\n",
    "        num = number * -1\n",
    "        squareroot = str(num ** 0.5) + 'i'\n",
    "        return squareroot\n",
    "    else:\n",
    "        squareroot = str(num ** 0.5)\n",
    "        return squareroot\n",
    "\n",
    "square_root(36)\n",
    " "
   ]
  },
  {
   "cell_type": "code",
   "execution_count": 6,
   "id": "2088df7b",
   "metadata": {},
   "outputs": [
    {
     "data": {
      "text/plain": [
       "'2.0i'"
      ]
     },
     "execution_count": 6,
     "metadata": {},
     "output_type": "execute_result"
    }
   ],
   "source": [
    "square_root(-4) "
   ]
  },
  {
   "cell_type": "code",
   "execution_count": 7,
   "id": "096168da",
   "metadata": {},
   "outputs": [
    {
     "name": "stdout",
     "output_type": "stream",
     "text": [
      "invalid: function takes in int '' was given\n"
     ]
    }
   ],
   "source": [
    "square_root('six')"
   ]
  },
  {
   "cell_type": "code",
   "execution_count": 8,
   "id": "eb5eda07",
   "metadata": {},
   "outputs": [
    {
     "name": "stdout",
     "output_type": "stream",
     "text": [
      "the square root of 36 is(6+0j)\n"
     ]
    }
   ],
   "source": [
    "import cmath\n",
    "\n",
    "print(f\"the square root of 36 is{cmath.sqrt(36)}\")"
   ]
  },
  {
   "cell_type": "code",
   "execution_count": null,
   "id": "51916858",
   "metadata": {},
   "outputs": [],
   "source": []
  }
 ],
 "metadata": {
  "kernelspec": {
   "display_name": "Python 3 (ipykernel)",
   "language": "python",
   "name": "python3"
  },
  "language_info": {
   "codemirror_mode": {
    "name": "ipython",
    "version": 3
   },
   "file_extension": ".py",
   "mimetype": "text/x-python",
   "name": "python",
   "nbconvert_exporter": "python",
   "pygments_lexer": "ipython3",
   "version": "3.9.7"
  }
 },
 "nbformat": 4,
 "nbformat_minor": 5
}
