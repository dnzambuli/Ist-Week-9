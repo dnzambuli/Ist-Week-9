{
 "cells": [
  {
   "cell_type": "markdown",
   "id": "f3b742b1",
   "metadata": {},
   "source": [
    "## Functions \n",
    "```function``` a group of statements that carry out a given task\n",
    "- self contained program segment that carries out some specific well defined task\n",
    "\n",
    "- a **module of code** that takes input as **parameters** and performs a \n",
    "### Uses \n",
    "- avoid rewriting similar things through out the program \n",
    "- no limit of calling functions from any part of the code\n",
    "- easily track a program's life cycle \n",
    "- improve reuseability by reducing the code into small chunks that are easily understandable\n",
    "\n",
    "### Syntax\n",
    "```python\n",
    "def my_func():\n",
    "    print(\"Welcome to my first function\")\n",
    "\n",
    "my_func()\n",
    "```\n",
    "\n",
    "- **def** keyword to id a function\n",
    "- my_func **function name** the neame to call the function\n",
    "- (**param**) input for the function\n",
    "- **statements** code that is writen inside the function and is ran when the function is called\n",
    "- **function name ()** calling the function and telling python to run it\n"
   ]
  },
  {
   "cell_type": "code",
   "execution_count": null,
   "id": "ea72565a",
   "metadata": {},
   "outputs": [],
   "source": []
  }
 ],
 "metadata": {
  "kernelspec": {
   "display_name": "Python 3 (ipykernel)",
   "language": "python",
   "name": "python3"
  },
  "language_info": {
   "codemirror_mode": {
    "name": "ipython",
    "version": 3
   },
   "file_extension": ".py",
   "mimetype": "text/x-python",
   "name": "python",
   "nbconvert_exporter": "python",
   "pygments_lexer": "ipython3",
   "version": "3.9.7"
  }
 },
 "nbformat": 4,
 "nbformat_minor": 5
}
